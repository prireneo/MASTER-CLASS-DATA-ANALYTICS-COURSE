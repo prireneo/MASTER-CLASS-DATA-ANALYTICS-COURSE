{
  "nbformat": 4,
  "nbformat_minor": 0,
  "metadata": {
    "colab": {
      "provenance": [],
      "authorship_tag": "ABX9TyPSM8I1acB/N3B2dBE2oHyS",
      "include_colab_link": true
    },
    "kernelspec": {
      "name": "python3",
      "display_name": "Python 3"
    },
    "language_info": {
      "name": "python"
    }
  },
  "cells": [
    {
      "cell_type": "markdown",
      "metadata": {
        "id": "view-in-github",
        "colab_type": "text"
      },
      "source": [
        "<a href=\"https://colab.research.google.com/github/prireneo/MASTER-CLASS-DATA-ANALYTICS-COURSE/blob/main/Python_classIrene.ipynb\" target=\"_parent\"><img src=\"https://colab.research.google.com/assets/colab-badge.svg\" alt=\"Open In Colab\"/></a>"
      ]
    },
    {
      "cell_type": "code",
      "execution_count": null,
      "metadata": {
        "id": "wpVF0BPfJcTX"
      },
      "outputs": [],
      "source": [
        "# hi irene using python for the first time to code"
      ]
    },
    {
      "cell_type": "markdown",
      "source": [
        "# explaining indentation\n",
        "for i in range(10):\n",
        " print"
      ],
      "metadata": {
        "id": "1_-io20KLScO"
      }
    },
    {
      "cell_type": "code",
      "source": [],
      "metadata": {
        "id": "MOgpAkg1Pd1v"
      },
      "execution_count": null,
      "outputs": []
    },
    {
      "cell_type": "markdown",
      "source": [
        "BASIC DATA TYPES"
      ],
      "metadata": {
        "id": "RPIA8VlFLS1T"
      }
    },
    {
      "cell_type": "code",
      "source": [
        "# EXPLAINING THE DIFFERENT DATA TYPES\n",
        "# string data type\n",
        "name = \"Susan\""
      ],
      "metadata": {
        "id": "Lnq8x6RGMfoV"
      },
      "execution_count": null,
      "outputs": []
    },
    {
      "cell_type": "code",
      "source": [
        "print(\"Susan\")\n",
        "print(name)"
      ],
      "metadata": {
        "colab": {
          "base_uri": "https://localhost:8080/"
        },
        "id": "JrCYBpj2QbzQ",
        "outputId": "b4c3aca7-f7a9-4dd3-843e-78fe02ba0446"
      },
      "execution_count": null,
      "outputs": [
        {
          "output_type": "stream",
          "name": "stdout",
          "text": [
            "Susan\n",
            "Susan\n"
          ]
        }
      ]
    },
    {
      "cell_type": "code",
      "source": [
        "# int data type\n",
        "age = 30"
      ],
      "metadata": {
        "id": "T-XkuKFaPnlN"
      },
      "execution_count": null,
      "outputs": []
    },
    {
      "cell_type": "code",
      "source": [
        "# Boolean Data Type\n",
        "is_student = False"
      ],
      "metadata": {
        "id": "QZHcxLVaPtb2"
      },
      "execution_count": null,
      "outputs": []
    },
    {
      "cell_type": "code",
      "source": [
        "# Float Data Type\n",
        "height = 5.7"
      ],
      "metadata": {
        "id": "LCbVXUklP1p1"
      },
      "execution_count": null,
      "outputs": []
    },
    {
      "cell_type": "code",
      "source": [],
      "metadata": {
        "id": "rzslIYZNQWFP"
      },
      "execution_count": null,
      "outputs": []
    },
    {
      "cell_type": "markdown",
      "source": [
        "**CLASS ACTIVITY 1**"
      ],
      "metadata": {
        "id": "UP89jtb3T52J"
      }
    },
    {
      "cell_type": "code",
      "source": [
        "#Write 3 lines of code defining your name, age and a boolean for whether you love Python class or not.\n",
        "Name = \"Irene\"\n",
        "Age = 50\n",
        "loves_Python = True\n"
      ],
      "metadata": {
        "id": "A6QzgnTAUBJR"
      },
      "execution_count": null,
      "outputs": []
    },
    {
      "cell_type": "markdown",
      "source": [
        "DATA COLLECTIONS\n",
        "*   Lists- mutable(editable) items on python. uses []\n",
        "*   Tuples- defined by parenthesis not collar braces. They are also immutable sequences. uses ()\n",
        "*  Dictionaries.Also mutable like Lists. Key value sets. They always come in pairs. uses {}. E.g. {\"irene\":50,} \"irene\" is a key and 50 is the pair\n",
        "\n",
        "\n",
        "\n"
      ],
      "metadata": {
        "id": "L2ovOlJkXmvq"
      }
    },
    {
      "cell_type": "code",
      "source": [
        "# UNDERSTANDING LISTS\n",
        "Names = [\"Irene\", \"Freeze\", \"Susan\"]"
      ],
      "metadata": {
        "id": "P22cwBFxX9Ky"
      },
      "execution_count": null,
      "outputs": []
    },
    {
      "cell_type": "code",
      "source": [
        "print(Names)"
      ],
      "metadata": {
        "colab": {
          "base_uri": "https://localhost:8080/"
        },
        "id": "phAI92snZn-m",
        "outputId": "27c2331c-e761-40e1-889c-2c413f3dc287"
      },
      "execution_count": null,
      "outputs": [
        {
          "output_type": "stream",
          "name": "stdout",
          "text": [
            "['Irene', 'Freeze', 'Susan']\n"
          ]
        }
      ]
    },
    {
      "cell_type": "code",
      "source": [
        "print(Names[1:])"
      ],
      "metadata": {
        "colab": {
          "base_uri": "https://localhost:8080/"
        },
        "id": "eq_ZVGHyZ0qu",
        "outputId": "f381d50c-35b7-4467-87a5-8484229b1d28"
      },
      "execution_count": null,
      "outputs": [
        {
          "output_type": "stream",
          "name": "stdout",
          "text": [
            "['Freeze', 'Susan']\n"
          ]
        }
      ]
    },
    {
      "cell_type": "code",
      "source": [
        "# Tuples - not editable\n",
        "colors = (\"irene\", \"freeze\", \"susan\")"
      ],
      "metadata": {
        "id": "vjVfaHZyeFXC"
      },
      "execution_count": null,
      "outputs": []
    },
    {
      "cell_type": "code",
      "source": [
        "print(colors[2])"
      ],
      "metadata": {
        "colab": {
          "base_uri": "https://localhost:8080/"
        },
        "id": "pnicNFG8eQFa",
        "outputId": "b7020c77-a897-4e09-9c3b-e5b844f2249b"
      },
      "execution_count": null,
      "outputs": [
        {
          "output_type": "stream",
          "name": "stdout",
          "text": [
            "susan\n"
          ]
        }
      ]
    },
    {
      "cell_type": "code",
      "source": [
        "# Dictionaries\n",
        "# list of items to buy\n",
        "# rice : 1000\n",
        "# beans : 2000\n",
        "# salt : 500"
      ],
      "metadata": {
        "id": "mVGN37hYhvAr"
      },
      "execution_count": null,
      "outputs": []
    },
    {
      "cell_type": "code",
      "source": [
        "BIO = {\"irene\":50, \"freeze\":55, \"susan\":65}\n",
        "print(BIO)\n",
        "BIO[\"susan\"] = 60\n",
        "print(BIO)\n"
      ],
      "metadata": {
        "colab": {
          "base_uri": "https://localhost:8080/"
        },
        "id": "wNAq6AOpipth",
        "outputId": "0c6f33a1-46a0-4138-e67d-d9d10797716e"
      },
      "execution_count": null,
      "outputs": [
        {
          "output_type": "stream",
          "name": "stdout",
          "text": [
            "{'irene': 50, 'freeze': 55, 'susan': 65}\n",
            "{'irene': 50, 'freeze': 55, 'susan': 60}\n"
          ]
        }
      ]
    },
    {
      "cell_type": "markdown",
      "source": [
        "CLASS ACTIVITY 2\n",
        "\n",
        "*   Create a list of you 3 favorite books. change the 2nd book to a popular book you know\n",
        "*   Create a tuple of 3 numbers\n",
        "*   Create a dictionay of your profile with name,country and favorite color. Change favorite color to your worst color"
      ],
      "metadata": {
        "id": "RVnLsfmojyli"
      }
    },
    {
      "cell_type": "code",
      "source": [
        "# LIST OF 3 FAVORITE BOOKS\n",
        "Favorite_Books = [\"The Catcher in the Rye\", \"Entitlement Abolition\", \"The Laser Fund\"]\n",
        "print(Favorite_Books)"
      ],
      "metadata": {
        "colab": {
          "base_uri": "https://localhost:8080/"
        },
        "id": "9j4kmaAmkK1m",
        "outputId": "58367b00-387b-4170-ef4d-749f7e3dd084"
      },
      "execution_count": null,
      "outputs": [
        {
          "output_type": "stream",
          "name": "stdout",
          "text": [
            "['The Catcher in the Rye', 'Entitlement Abolition', 'The Laser Fund']\n"
          ]
        }
      ]
    },
    {
      "cell_type": "code",
      "source": [
        "Favorite_Books[1]=\"Emptied\"\n",
        "print(Favorite_Books)"
      ],
      "metadata": {
        "colab": {
          "base_uri": "https://localhost:8080/"
        },
        "id": "8pTxDGcimZhI",
        "outputId": "c0045951-3978-409c-9996-872385544fc7"
      },
      "execution_count": null,
      "outputs": [
        {
          "output_type": "stream",
          "name": "stdout",
          "text": [
            "['The Catcher in the Rye', 'Emptied', 'The Laser Fund']\n"
          ]
        }
      ]
    },
    {
      "cell_type": "code",
      "source": [
        "# TUPLE OF 3 NUMBERS\n",
        "Numbers= \"one\", \"seven\", \"six\"\n",
        "print(Numbers)\n",
        "print(Numbers[2])"
      ],
      "metadata": {
        "colab": {
          "base_uri": "https://localhost:8080/"
        },
        "id": "H_n0UvuAnKtt",
        "outputId": "32e2b590-0e7c-4f63-d082-84aa705d8a31"
      },
      "execution_count": null,
      "outputs": [
        {
          "output_type": "stream",
          "name": "stdout",
          "text": [
            "('one', 'seven', 'six')\n",
            "six\n"
          ]
        }
      ]
    },
    {
      "cell_type": "code",
      "source": [
        "# DICTIONARY OF MY PROFILE WITH NAME,COUNTRY COLOR\n",
        "Profile = {\"name\":\"Irene\", \"country\":\"Nigeria\", \"color\":\"Black\"}\n",
        "print(Profile)\n",
        "Profile[\"color\"]= \"Lilac\"\n",
        "print(Profile)"
      ],
      "metadata": {
        "colab": {
          "base_uri": "https://localhost:8080/"
        },
        "id": "_zjMRAlZnyNZ",
        "outputId": "f4c3fc61-fb52-4939-d27b-ebb72a7a8320"
      },
      "execution_count": null,
      "outputs": [
        {
          "output_type": "stream",
          "name": "stdout",
          "text": [
            "{'name': 'Irene', 'country': 'Nigeria', 'color': 'Black'}\n",
            "{'name': 'Irene', 'country': 'Nigeria', 'color': 'Lilac'}\n"
          ]
        }
      ]
    },
    {
      "cell_type": "code",
      "source": [
        "#If statement\n",
        "x = 5\n",
        "if x > 4:\n",
        "  print(\"x is greater than 4\")"
      ],
      "metadata": {
        "colab": {
          "base_uri": "https://localhost:8080/"
        },
        "id": "N-yj-hzLi1oT",
        "outputId": "a4b1147f-6307-4a5c-f525-beaa979db739"
      },
      "execution_count": null,
      "outputs": [
        {
          "output_type": "stream",
          "name": "stdout",
          "text": [
            "x is greater than 4\n"
          ]
        }
      ]
    },
    {
      "cell_type": "code",
      "source": [],
      "metadata": {
        "id": "ktQtW-3HjvZ7"
      },
      "execution_count": null,
      "outputs": []
    }
  ]
}